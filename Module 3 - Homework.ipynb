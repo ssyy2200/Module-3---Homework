{
 "cells": [
  {
   "cell_type": "markdown",
   "metadata": {},
   "source": [
    "### Exercise 1\n",
    "Ask a user for 5 names and place each one in to a list called <i>names</i>. Then, print <i>names</i>."
   ]
  },
  {
   "cell_type": "code",
   "execution_count": 2,
   "metadata": {},
   "outputs": [
    {
     "name": "stdout",
     "output_type": "stream",
     "text": [
      "Enter a name:Etag\n",
      "Enter a name:Sol\n",
      "Enter a name:Eshe\n",
      "Enter a name:Micho\n",
      "Enter a name:Eju\n",
      "['Etag', 'Sol', 'Eshe', 'Micho', 'Eju']\n"
     ]
    }
   ],
   "source": [
    "names = []\n",
    "names.append(input(\"Enter a name:\"))\n",
    "names.append(input(\"Enter a name:\"))\n",
    "names.append(input(\"Enter a name:\"))\n",
    "names.append(input(\"Enter a name:\"))\n",
    "names.append(input(\"Enter a name:\"))\n",
    "\n",
    "print(names)"
   ]
  },
  {
   "cell_type": "markdown",
   "metadata": {},
   "source": [
    "### Exercise 2\n",
    "Print out a randomly selected name in the names list."
   ]
  },
  {
   "cell_type": "code",
   "execution_count": 3,
   "metadata": {},
   "outputs": [
    {
     "name": "stdout",
     "output_type": "stream",
     "text": [
      "Eshe\n"
     ]
    }
   ],
   "source": [
    "import random as rand\n",
    "\n",
    "rng = rand.randint(1,5)\n",
    "print(names[rng])"
   ]
  },
  {
   "cell_type": "markdown",
   "metadata": {},
   "source": [
    "### Exercise 3\n",
    "\n",
    "Ask a user for a specific color and store that value into a variable. If the answer is gray, print \"You found Victor's favorite color!\". If the answer is anything besides gray, print \"[color name] is not Victor's favorite color.\""
   ]
  },
  {
   "cell_type": "code",
   "execution_count": 5,
   "metadata": {},
   "outputs": [
    {
     "name": "stdout",
     "output_type": "stream",
     "text": [
      "What is your favorite color?red\n",
      "red is not Victor's favorite color\n"
     ]
    }
   ],
   "source": [
    "color = input(\"What is your favorite color?\")\n",
    "\n",
    "if color == 'gray':\n",
    "    print(\"You found Victor's favorite color!\")\n",
    "else:\n",
    "    print(f\"{color} is not Victor's favorite color\")"
   ]
  },
  {
   "cell_type": "markdown",
   "metadata": {},
   "source": [
    "### Exercise 4\n",
    "Ask for an exam score and store that number. If the number is greater than 100, then print out 'You cannot have an exam score higher than 100'. If the number doesn't exceeed 100 but is greater than or equal to 75, then print out 'You did great on your exam!'. Otherwise if they scored lower than 75, then print out 'You need to study harder'."
   ]
  },
  {
   "cell_type": "code",
   "execution_count": 23,
   "metadata": {},
   "outputs": [
    {
     "name": "stdout",
     "output_type": "stream",
     "text": [
      "What grade did you get?85\n",
      "You did great on your exam!\n"
     ]
    }
   ],
   "source": [
    "def check_grade(score) :\n",
    "    \n",
    "    if grade > 100 :\n",
    "        print('You cannot have an exam score higher than 100')\n",
    "    \n",
    "    elif grade >= 75 :\n",
    "        print ('You did great on your exam!')\n",
    "            \n",
    "    elif grade < 75 :\n",
    "        print ('You need to study harder')\n",
    "        \n",
    "grade = float(input(\"What grade did you get?\"))\n",
    "\n",
    "check_grade(grade) \n",
    " "
   ]
  },
  {
   "cell_type": "markdown",
   "metadata": {},
   "source": [
    "### Exercise 5\n",
    "Write a function to convert a test score to a grade where  \n",
    " - 90 - 100: A\n",
    " - 80 - 89:  B\n",
    " - 70 - 79:  C\n",
    " - 60 - 69:  D\n",
    " - < 60   :  F\n",
    " \n",
    "If a score is not between 0 and 100 then print out an error message. In the program, ask the user for a score and then call your function. "
   ]
  },
  {
   "cell_type": "code",
   "execution_count": 26,
   "metadata": {},
   "outputs": [
    {
     "name": "stdout",
     "output_type": "stream",
     "text": [
      "What grade did you get?78\n",
      "Grade is a C\n"
     ]
    }
   ],
   "source": [
    "def check_grade(score) :\n",
    "    \n",
    "    if score > 100 or score < 0:\n",
    "        print(\"ERROR: Score must be between 0 and 100\")\n",
    "    elif grade >= 90 :\n",
    "        print('Grade is an A')\n",
    "    \n",
    "    elif grade >= 80 :\n",
    "        print ('Grade is a B')\n",
    "        \n",
    "    elif grade >= 70 :\n",
    "        print ('Grade is a C') \n",
    "        \n",
    "    elif grade >= 60 :\n",
    "        print ('Grade is a D') \n",
    "            \n",
    "    elif grade < 60 :\n",
    "        print ('Grade is an F')\n",
    "        \n",
    "grade = float(input(\"What grade did you get?\"))\n",
    "\n",
    "check_grade(grade) "
   ]
  },
  {
   "cell_type": "code",
   "execution_count": null,
   "metadata": {},
   "outputs": [],
   "source": []
  }
 ],
 "metadata": {
  "kernelspec": {
   "display_name": "Python 3 (ipykernel)",
   "language": "python",
   "name": "python3"
  },
  "language_info": {
   "codemirror_mode": {
    "name": "ipython",
    "version": 3
   },
   "file_extension": ".py",
   "mimetype": "text/x-python",
   "name": "python",
   "nbconvert_exporter": "python",
   "pygments_lexer": "ipython3",
   "version": "3.9.13"
  }
 },
 "nbformat": 4,
 "nbformat_minor": 4
}
